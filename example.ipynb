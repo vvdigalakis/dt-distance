{
 "cells": [
  {
   "cell_type": "code",
   "execution_count": null,
   "metadata": {},
   "outputs": [],
   "source": [
    "from sklearn.datasets import load_breast_cancer\n",
    "from sklearn.model_selection import train_test_split\n",
    "from sklearn.tree import DecisionTreeClassifier\n",
    "from dt_distance.distance_calculator import DistanceCalculator \n"
   ]
  },
  {
   "cell_type": "code",
   "execution_count": null,
   "metadata": {},
   "outputs": [],
   "source": [
    "X, y = load_breast_cancer(return_X_y=True)\n",
    "X_train, X_test, y_train, y_test = train_test_split(X, y, test_size=0.2, random_state=0)\n"
   ]
  },
  {
   "cell_type": "code",
   "execution_count": null,
   "metadata": {},
   "outputs": [],
   "source": [
    "tree1 = DecisionTreeClassifier(max_depth=1, random_state=0)\n",
    "tree2 = DecisionTreeClassifier(max_depth=2, random_state=1)\n",
    "\n",
    "tree1.fit(X_train, y_train)\n",
    "tree2.fit(X_train, y_train);"
   ]
  },
  {
   "cell_type": "code",
   "execution_count": null,
   "metadata": {},
   "outputs": [],
   "source": [
    "# Initialize the DistanceCalculator with the two trees and the dataset\n",
    "distance_calculator = DistanceCalculator(tree1, tree2, X=X_train, y=y_train)\n",
    "# Compute the distance\n",
    "distance_calculator.compute_tree_distance()\n",
    "\n",
    "print(f\"The distance between the two decision trees is: {distance_calculator.distance}\")\n",
    "\n",
    "print(f\"The optimal path matching is: {distance_calculator.matching}\")"
   ]
  },
  {
   "cell_type": "code",
   "execution_count": null,
   "metadata": {},
   "outputs": [],
   "source": [
    "\n",
    "import matplotlib.pyplot as plt\n",
    "from sklearn.tree import plot_tree\n",
    "\n",
    "# Plot the first tree\n",
    "plt.figure(figsize=(20,10))\n",
    "plot_tree(tree1, filled=True, feature_names=load_breast_cancer().feature_names, class_names=load_breast_cancer().target_names, rounded=True)\n",
    "plt.title(\"Decision Tree 1\")\n",
    "plt.show()\n",
    "\n",
    "# Plot the second tree\n",
    "plt.figure(figsize=(20,10))\n",
    "plot_tree(tree2, filled=True, feature_names=load_breast_cancer().feature_names, class_names=load_breast_cancer().target_names, rounded=True)\n",
    "plt.title(\"Decision Tree 2\")\n",
    "plt.show()\n",
    "\n"
   ]
  }
 ],
 "metadata": {
  "kernelspec": {
   "display_name": "Python 3",
   "language": "python",
   "name": "python3"
  },
  "language_info": {
   "codemirror_mode": {
    "name": "ipython",
    "version": 3
   },
   "file_extension": ".py",
   "mimetype": "text/x-python",
   "name": "python",
   "nbconvert_exporter": "python",
   "pygments_lexer": "ipython3",
   "version": "3.12.1"
  }
 },
 "nbformat": 4,
 "nbformat_minor": 2
}
